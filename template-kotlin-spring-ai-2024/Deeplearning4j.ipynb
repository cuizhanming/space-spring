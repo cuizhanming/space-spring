{
 "cells": [
  {
   "cell_type": "code",
   "execution_count": 6,
   "metadata": {
    "collapsed": true,
    "ExecuteTime": {
     "end_time": "2024-02-26T10:40:05.545119Z",
     "start_time": "2024-02-26T10:40:05.221005Z"
    }
   },
   "outputs": [],
   "source": [
    "import org.deeplearning4j.nn.api.OptimizationAlgorithm\n",
    "import org.deeplearning4j.nn.conf.MultiLayerConfiguration\n",
    "import org.deeplearning4j.nn.conf.NeuralNetConfiguration\n",
    "import org.deeplearning4j.nn.conf.layers.DenseLayer\n",
    "import org.deeplearning4j.nn.conf.layers.OutputLayer\n",
    "import org.deeplearning4j.nn.multilayer.MultiLayerNetwork\n",
    "import org.deeplearning4j.nn.weights.WeightInit\n",
    "import org.nd4j.linalg.activations.Activation\n",
    "import org.nd4j.linalg.api.ndarray.INDArray\n",
    "import org.nd4j.linalg.factory.Nd4j\n",
    "import org.nd4j.linalg.learning.config.Nesterovs\n",
    "import org.nd4j.linalg.lossfunctions.LossFunctions\n",
    "\n",
    "fun generateData(numSamples: Int): Pair<INDArray, INDArray> {\n",
    "    val features = Nd4j.rand(numSamples, 2).subi(0.5).muli(10.0) // random numbers between -5 and 5\n",
    "    val labels = features.sum(1).gt(0.0).castTo(features.dataType()) // 1 if sum > 0, 0 otherwise\n",
    "\n",
    "    return Pair(features, labels)\n",
    "}\n",
    "\n",
    "fun main() {\n",
    "    val numInputs = 2\n",
    "    val numOutputs = 2\n",
    "    val numHiddenNodes = 20\n",
    "\n",
    "    val conf: MultiLayerConfiguration = NeuralNetConfiguration.Builder()\n",
    "        .seed(123)\n",
    "        .weightInit(WeightInit.XAVIER)\n",
    "        .updater(Nesterovs(0.01, 0.9))\n",
    "        .list()\n",
    "        .layer(0, DenseLayer.Builder().nIn(numInputs).nOut(numHiddenNodes)\n",
    "            .activation(Activation.RELU)\n",
    "            .build())\n",
    "        .layer(1, OutputLayer.Builder(LossFunctions.LossFunction.NEGATIVELOGLIKELIHOOD)\n",
    "            .activation(Activation.SOFTMAX)\n",
    "            .nIn(numHiddenNodes).nOut(numOutputs).build())\n",
    "        .build()\n",
    "\n",
    "    val model = MultiLayerNetwork(conf)\n",
    "    model.init()\n",
    "\n",
    "    // Generate training data\n",
    "    val (trainFeatures, trainLabels) = generateData(1000)\n",
    "\n",
    "    // Train the model\n",
    "    for (epoch in 0 until 100) {\n",
    "        model.fit(trainFeatures, trainLabels)\n",
    "    }\n",
    "\n",
    "    // Generate some test data\n",
    "    val (testFeatures, testLabels) = generateData(100)\n",
    "\n",
    "    // Evaluate the model on the test data\n",
    "    val output = model.output(testFeatures)\n",
    "    val nCorrect = output.eq(testLabels).sumNumber().toInt()\n",
    "    println(\"Correctly classified $nCorrect out of 100 test examples.\")\n",
    "}"
   ]
  }
 ],
 "metadata": {
  "kernelspec": {
   "display_name": "Kotlin",
   "language": "kotlin",
   "name": "kotlin"
  },
  "language_info": {
   "name": "kotlin",
   "version": "1.9.0",
   "mimetype": "text/x-kotlin",
   "file_extension": ".kt",
   "pygments_lexer": "kotlin",
   "codemirror_mode": "text/x-kotlin",
   "nbconvert_exporter": ""
  },
  "ktnbPluginMetadata": {
   "projectDependencies": [
    "template-kotlin-springboot-2024"
   ]
  }
 },
 "nbformat": 4,
 "nbformat_minor": 0
}
