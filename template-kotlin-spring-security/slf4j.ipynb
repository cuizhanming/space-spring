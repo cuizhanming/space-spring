{
 "cells": [
  {
   "metadata": {},
   "cell_type": "markdown",
   "source": [
    "## SLF4J (Simple Logging Facade for Java)\n",
    "SLF4J is a simple facade for various logging frameworks allowing the end-user to plug in the desired implementation at deployment time. SLF4J also supports a bridging legacy APIs as well as a source code migration tool.\n",
    "\n",
    "SLF4J architecture is based on the following key components:\n",
    "1. Logger: The main user entry point for logging.\n",
    "2. Filter: A filter is a simple interface that allows certain log events to be passed through the filter, while others are discarded.\n",
    "3. Appender: An appender is responsible for outputting the log events to a destination.\n",
    "4. Layout: A layout is responsible for formatting the log events.\n",
    "5. Marker: A marker is a simple interface that allows log events to be tagged with a marker object.\n",
    "6. Event: The event is the main data structure that is passed through the logging system.\n",
    "\n",
    "Implementations of SLF4J are available for various logging frameworks such as Logback, Log4j, and java.util.logging.\n",
    "\n",
    "## Logback\n",
    "\n",
    "- sample of logback.xml for appender to console, in format of JSON, for all levels of logs\n",
    "    ```xml\n",
    "    <configuration>\n",
    "        <appender name=\"STDOUT\" class=\"ch.qos.logback.core.ConsoleAppender\">\n",
    "            <encoder class=\"net.logstash.logback.encoder.LogstashEncoder\"/>\n",
    "        </appender>\n",
    "        <root level=\"debug\">\n",
    "            <appender-ref ref=\"STDOUT\"/>\n",
    "        </root>\n",
    "    </configuration>\n",
    "    ```\n",
    "- sample of logback.xml for appender to file, in format of JSON, for specific logger and levels of logs\n",
    "    ```xml\n",
    "    <configuration>\n",
    "        <appender name=\"FILE\" class=\"ch.qos.logback.core.FileAppender\">\n",
    "            <file>logs/app.log</file>\n",
    "            <encoder class=\"net.logstash.logback.encoder.LogstashEncoder\"/>\n",
    "        </appender>\n",
    "        <logger name=\"com.example\" level=\"INFO\">\n",
    "            <appender-ref ref=\"FILE\"/>\n",
    "        </logger>\n",
    "    </configuration>\n",
    "    ```\n",
    "- sample of logback.xml for: define appenders to console, in format of JSON or text. Apply appenders with json format to the whole project when spring profile is dev, and apply appenders with text format to the whole project when spring profile is any other profile.\n",
    "    ```xml\n",
    "    <configuration>\n",
    "        <appender name=\"STDOUT_TEXT\" class=\"ch.qos.logback.core.ConsoleAppender\">\n",
    "            <encoder>\n",
    "                <pattern>%d{HH:mm:ss.SSS} [%thread] %-5level %logger{36} - %msg%n</pattern>\n",
    "            </encoder>\n",
    "        </appender>\n",
    "        <appender name=\"STDOUT_JSON\" class=\"ch.qos.logback.core.ConsoleAppender\">\n",
    "            <encoder class=\"net.logstash.logback.encoder.LogstashEncoder\"/>\n",
    "        </appender>\n",
    "        <springProfile name=\"dev\">\n",
    "            <root level=\"debug\">\n",
    "                <appender-ref ref=\"STDOUT_JSON\"/>\n",
    "            </root>\n",
    "        </springProfile>\n",
    "        <springProfile name=\"!dev\">\n",
    "            <root level=\"info\">\n",
    "                <appender-ref ref=\"STDOUT_TEXT\"/>\n",
    "            </root>\n",
    "        </springProfile>\n",
    "    </configuration>\n",
    "    ```\n"
   ]
  },
  {
   "metadata": {
    "ExecuteTime": {
     "end_time": "2025-01-20T19:21:33.105843Z",
     "start_time": "2025-01-20T19:21:33.074216Z"
    }
   },
   "cell_type": "code",
   "source": [
    "\n",
    "import org.slf4j.LoggerFactory\n",
    "fun main() {\n",
    "    var logger = LoggerFactory.getLogger(this::class.java)\n",
    "    logger.info(\"========> SLF4J\")\n",
    "    println(\"SLF4J\")\n",
    "}"
   ],
   "outputs": [],
   "execution_count": 14
  }
 ],
 "metadata": {
  "kernelspec": {
   "display_name": "Kotlin",
   "language": "kotlin",
   "name": "kotlin"
  },
  "language_info": {
   "name": "kotlin",
   "version": "1.9.23",
   "mimetype": "text/x-kotlin",
   "file_extension": ".kt",
   "pygments_lexer": "kotlin",
   "codemirror_mode": "text/x-kotlin",
   "nbconvert_exporter": ""
  }
 },
 "nbformat": 4,
 "nbformat_minor": 0
}
